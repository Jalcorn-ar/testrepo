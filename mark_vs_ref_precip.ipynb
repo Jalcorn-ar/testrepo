{
 "cells": [
  {
   "cell_type": "markdown",
   "id": "b929a25c-a98b-468c-bac9-dfac654133a5",
   "metadata": {},
   "source": [
    "# Mark vs reference precip"
   ]
  },
  {
   "cell_type": "code",
   "execution_count": 1,
   "id": "75fed165-4d7d-46bf-b05e-c4b026b08662",
   "metadata": {},
   "outputs": [],
   "source": [
    "import datetime as dt\n",
    "import pandas as pd\n",
    "from calval_data_access.mark_data import get_db_data, get_user_db_creds, query_constructor\n",
    "from calval_data_access.reference_data import get_processed_data"
   ]
  },
  {
   "cell_type": "code",
   "execution_count": 2,
   "id": "c66faaff-d285-43f6-b781-36b463d2d254",
   "metadata": {},
   "outputs": [],
   "source": [
    "location_by_device = {\"B301119\":\"CR350_Piracicaba\", \"B301027\":\"CR350_Colombia\", \"B301022\":\"CR350_CostaRica\"} \n",
    "start_date = dt.datetime(2023,5,1)\n",
    "end_date = dt.datetime(2023,8,31)"
   ]
  },
  {
   "cell_type": "markdown",
   "id": "31442167-c552-4963-ae26-1aa397c4fb3e",
   "metadata": {},
   "source": [
    "# get mark data"
   ]
  },
  {
   "cell_type": "code",
   "execution_count": 3,
   "id": "ca39baf1-ca35-40d1-9b43-b723c3f450c1",
   "metadata": {},
   "outputs": [],
   "source": [
    "creds = get_user_db_creds(user = \"jacob_goldberg\", environment = \"alp\")"
   ]
  },
  {
   "cell_type": "code",
   "execution_count": null,
   "id": "17e8152e-5a6a-4216-aa8d-56e6be47f912",
   "metadata": {},
   "outputs": [],
   "source": [
    "data_by_device = {}\n",
    "for device in location_by_device.keys():\n",
    "    device_query = query_constructor(\"calibrated\", device, start_date, end_date)\n",
    "    device_data = get_db_data(creds, device_query)\n",
    "    data_by_device[device] = device_data"
   ]
  },
  {
   "cell_type": "markdown",
   "id": "3ddafa39-2f1d-4056-a082-24746b5bda2f",
   "metadata": {},
   "source": [
    "# get reference data"
   ]
  },
  {
   "cell_type": "code",
   "execution_count": null,
   "id": "e562b287-f3e7-42b8-8661-7dce52fe3225",
   "metadata": {},
   "outputs": [],
   "source": [
    "reference_data_by_device = {}\n",
    "for device, location in location_by_device.items():\n",
    "    site = \"site\"\n",
    "    device_ref_data = get_processed_data(site, start_date, end_date)\n",
    "    reference_data_by_device[device] = device_ref_data"
   ]
  },
  {
   "cell_type": "markdown",
   "id": "eb38943d-1a15-458e-bbd5-5f9d7493611d",
   "metadata": {},
   "source": [
    "# join data"
   ]
  },
  {
   "cell_type": "code",
   "execution_count": null,
   "id": "e26b69a8-d273-4674-90cc-5213182608ad",
   "metadata": {},
   "outputs": [],
   "source": [
    "data_by_device[\"B301119\"].head()"
   ]
  },
  {
   "cell_type": "code",
   "execution_count": null,
   "id": "0f4fcad4-9759-472d-9cd9-bfef6cfcb864",
   "metadata": {},
   "outputs": [],
   "source": [
    "reference_data_by_device[\"B301119\"].head()"
   ]
  },
  {
   "cell_type": "code",
   "execution_count": null,
   "id": "e77039cc-8ed9-4d56-a4fc-0c7f4cd96a39",
   "metadata": {},
   "outputs": [],
   "source": [
    "joined_data_by_device = {}\n",
    "for device, location in location_by_device.items():\n",
    "    temp_device_data = data_by_device[device]\n",
    "    temp_reference_data = reference_data_by_device[device]\n",
    "    temp_reference_data.ref_time = pd.to_datetime(temp_reference_data.ref_time, utc = True)\n",
    "    temp_joined_device_data = pd.merge(temp_device_data, temp_reference_data, how = \"outer\", left_on = \"time\", right_on = \"ref_time\") \n",
    "    temp_joined_device_data = temp_joined_device_data.filter([\"time\", \"device\", \"precip\", \"ref_precip\", \"site_id\", \"source\"])\n",
    "    joined_data_by_device[device] = temp_joined_device_data"
   ]
  }
 ],
 "metadata": {
  "kernelspec": {
   "display_name": "Python 3 (ipykernel)",
   "language": "python",
   "name": "python3"
  },
  "language_info": {
   "codemirror_mode": {
    "name": "ipython",
    "version": 3
   },
   "file_extension": ".py",
   "mimetype": "text/x-python",
   "name": "python",
   "nbconvert_exporter": "python",
   "pygments_lexer": "ipython3",
   "version": "3.11.4"
  }
 },
 "nbformat": 4,
 "nbformat_minor": 5
}
