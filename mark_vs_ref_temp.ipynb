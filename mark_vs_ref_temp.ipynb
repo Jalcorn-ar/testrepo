{
 "cells": [
  {
   "cell_type": "code",
   "execution_count": 1,
   "id": "427844db-c6d2-416d-a56c-60783055ac9e",
   "metadata": {},
   "outputs": [],
   "source": [
    "import datetime as dt\n",
    "import pandas as pd\n",
    "from calval_data_access.mark_data import get_db_data, get_user_db_creds, query_constructor\n",
    "from calval_data_access.reference_data import get_processed_data"
   ]
  },
  {
   "cell_type": "code",
   "execution_count": 2,
   "id": "91edfcf0-1834-482b-9470-21267d3f4e3c",
   "metadata": {},
   "outputs": [],
   "source": [
    "treatment_by_device = {\"D003898\":\"BV2_L1\", \"D003960\":\"BV2_L2\", \"D003942\":\"BV2_H1\", \"D003943\":\"BV2_H2\",\n",
    "\"D003701\":\"GB_L1\", \"D003705\":\"GB_L2\", \"D003978\":\"GB_H2\"} #GB_H1 excluded because Mark device was switched out\n",
    "start_date = dt.datetime(2023,5,1)\n",
    "end_date = dt.datetime(2023,8,31)"
   ]
  },
  {
   "cell_type": "markdown",
   "id": "a21ebed9-74f1-4dbf-8a45-51527abca792",
   "metadata": {},
   "source": [
    "# get mark data"
   ]
  },
  {
   "cell_type": "code",
   "execution_count": 3,
   "id": "7cbd21cc-cbb7-4c5a-9c36-15207aaabff2",
   "metadata": {},
   "outputs": [],
   "source": [
    "creds = get_user_db_creds(user = \"jacob_goldberg\", environment = \"alp\")"
   ]
  },
  {
   "cell_type": "code",
   "execution_count": null,
   "id": "1732f7d7-7c5f-4165-9273-7f523311e256",
   "metadata": {},
   "outputs": [],
   "source": [
    "data_by_device = {}\n",
    "for device in treatment_by_device.keys():\n",
    "    device_query = query_constructor(\"calibrated\", device, start_date, end_date)\n",
    "    device_data = get_db_data(creds, device_query)\n",
    "    data_by_device[device] = device_data\n",
    "    "
   ]
  },
  {
   "cell_type": "markdown",
   "id": "c6f1ce8d-dbad-44dc-ab8c-4d60d16c4a68",
   "metadata": {},
   "source": [
    "# get reference data"
   ]
  },
  {
   "cell_type": "code",
   "execution_count": null,
   "id": "6c7d150d-7655-40fd-9c34-89c6a55bbbb3",
   "metadata": {
    "scrolled": true
   },
   "outputs": [],
   "source": [
    "reference_data_by_device = {}\n",
    "for device, treatment in treatment_by_device.items():\n",
    "    site = \"TWE_\" + treatment.split(\"_\")[0]\n",
    "    source = treatment.split(\"_\")[1]\n",
    "    device_ref_data = get_processed_data(site, source, start_date, end_date)\n",
    "    reference_data_by_device[device] = device_ref_data"
   ]
  },
  {
   "cell_type": "markdown",
   "id": "1d3474c9-dfb1-4312-a857-43048b99afaa",
   "metadata": {},
   "source": [
    "# join data"
   ]
  },
  {
   "cell_type": "code",
   "execution_count": null,
   "id": "66279a8f-3b5c-4645-a12f-da7d6a9b52a0",
   "metadata": {},
   "outputs": [],
   "source": [
    "data_by_device[\"D003898\"].head()"
   ]
  },
  {
   "cell_type": "code",
   "execution_count": null,
   "id": "04554cb4-c2fa-405c-91af-912e2a1847af",
   "metadata": {},
   "outputs": [],
   "source": [
    "reference_data_by_device[\"D003898\"].head()"
   ]
  },
  {
   "cell_type": "code",
   "execution_count": null,
   "id": "46c2b1e6-722e-4f67-9cd3-7a472dd58f0c",
   "metadata": {},
   "outputs": [],
   "source": [
    "joined_data_by_device = {}\n",
    "for device, treatment in treatment_by_device.items():\n",
    "    temp_device_data = data_by_device[device]\n",
    "    temp_reference_data = reference_data_by_device[device]\n",
    "    temp_reference_data.ref_time = pd.to_datetime(temp_reference_data.ref_time, utc = True)\n",
    "    temp_joined_device_data = pd.merge(temp_device_data, temp_reference_data, how = \"outer\", left_on = \"time\", right_on = \"ref_time\") \n",
    "    temp_joined_device_data = temp_joined_device_data.filter([\"time\", \"device\", \"tbelow\", \"ref_tbelow\", \"site_id\", \"source\"])\n",
    "    joined_data_by_device[device] = temp_joined_device_data"
   ]
  },
  {
   "cell_type": "code",
   "execution_count": null,
   "id": "37430e51-6888-4995-925f-22e1138c8984",
   "metadata": {},
   "outputs": [],
   "source": [
    "joined_data_by_device[device].head()"
   ]
  },
  {
   "cell_type": "code",
   "execution_count": null,
   "id": "386fe764-77bf-499e-bdbc-099880e99b4d",
   "metadata": {},
   "outputs": [],
   "source": [
    "joined_data_by_device[device].columns"
   ]
  },
  {
   "cell_type": "code",
   "execution_count": null,
   "id": "a7845d6b-13c3-44ed-ad35-3e5b53608ee6",
   "metadata": {},
   "outputs": [],
   "source": [
    "joined_data_by_device[device].head()\n"
   ]
  },
  {
   "cell_type": "code",
   "execution_count": null,
   "id": "04d4b2a7-f778-4a5a-8efe-15b5b902f39f",
   "metadata": {},
   "outputs": [],
   "source": []
  }
 ],
 "metadata": {
  "kernelspec": {
   "display_name": "Python 3 (ipykernel)",
   "language": "python",
   "name": "python3"
  },
  "language_info": {
   "codemirror_mode": {
    "name": "ipython",
    "version": 3
   },
   "file_extension": ".py",
   "mimetype": "text/x-python",
   "name": "python",
   "nbconvert_exporter": "python",
   "pygments_lexer": "ipython3",
   "version": "3.11.4"
  }
 },
 "nbformat": 4,
 "nbformat_minor": 5
}
