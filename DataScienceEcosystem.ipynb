{
 "cells": [
  {
   "cell_type": "markdown",
   "id": "fd1b51fa-9e9f-42f6-bd30-fae154ad14be",
   "metadata": {},
   "source": [
    "# Data Science Tools and Ecosystem"
   ]
  },
  {
   "cell_type": "markdown",
   "id": "20d76987-8eab-4720-a044-28d57a2b7bf3",
   "metadata": {},
   "source": [
    "# In this notebook, Data Science Tools and Ecosystem are summarized"
   ]
  },
  {
   "cell_type": "markdown",
   "id": "a9951342-9383-4169-a766-f6903bf72ed1",
   "metadata": {},
   "source": [
    "# Some of the popular languages that Data Scientists use are:\n",
    "1. Python\n",
    "2. R\n",
    "3. Julia\n",
    "4. C++"
   ]
  },
  {
   "cell_type": "markdown",
   "id": "195286b6-a311-4333-b981-851baf543fac",
   "metadata": {},
   "source": [
    "# Some of the commonly used libraries used by Data Scientists include:\n",
    "1. Pandas\n",
    "2. MatPlotLib\n",
    "3. dplyr\n",
    "4. ggplot"
   ]
  },
  {
   "cell_type": "code",
   "execution_count": null,
   "id": "173cf4de-6b7e-4b3c-a19f-4c0d339ecd3f",
   "metadata": {},
   "outputs": [],
   "source": [
    "| Data Science Tools |\n",
    "| ------------------ |\n",
    "| Relational Databases |\n",
    "| Data Integration Tools |\n",
    "| Data Visualization Tools |\n",
    "| Development Environments |"
   ]
  },
  {
   "cell_type": "markdown",
   "id": "05d1ec65-f721-4d31-b299-fec6aead821e",
   "metadata": {},
   "source": [
    "### Below are a few examples of evaluating arithmetic expressions in Python"
   ]
  },
  {
   "cell_type": "code",
   "execution_count": 1,
   "id": "2aca661d-2034-4731-82c9-bd9eba0a19b9",
   "metadata": {},
   "outputs": [
    {
     "name": "stdout",
     "output_type": "stream",
     "text": [
      "17\n"
     ]
    }
   ],
   "source": [
    "# This a simple arithmetic expression to mutiply then add integers.\n",
    "num = (3*4)+5\n",
    "print(num)"
   ]
  },
  {
   "cell_type": "markdown",
   "id": "79a76548-a98e-4e18-b4ad-896f1df5c333",
   "metadata": {},
   "source": [
    "# This will convert 200 minutes to hours by diving by 60\n",
    "min_per_hour = 60\n",
    "minutes = 200\n",
    "hours = minutes/min_per_hour\n",
    "print(hours)"
   ]
  },
  {
   "cell_type": "markdown",
   "id": "5986e639-6267-4c58-ac97-89dc28b158d9",
   "metadata": {},
   "source": [
    "# **Objectives:**\n",
    "* List data science languages and libraries\n",
    "* List data science tools\n",
    "* Exhibit code performing arithmetic calculations\n",
    "* Demonstrate markdown syntax"
   ]
  },
  {
   "cell_type": "markdown",
   "id": "83bb3edb-0e69-42e3-92e0-bc463b02f8b9",
   "metadata": {},
   "source": [
    "## Author\n",
    "Joe Alcorn"
   ]
  },
  {
   "cell_type": "code",
   "execution_count": null,
   "id": "53f70de6-6682-4235-b4ac-dad4ed577bf1",
   "metadata": {},
   "outputs": [],
   "source": []
  }
 ],
 "metadata": {
  "kernelspec": {
   "display_name": "Python 3 (ipykernel)",
   "language": "python",
   "name": "python3"
  },
  "language_info": {
   "codemirror_mode": {
    "name": "ipython",
    "version": 3
   },
   "file_extension": ".py",
   "mimetype": "text/x-python",
   "name": "python",
   "nbconvert_exporter": "python",
   "pygments_lexer": "ipython3",
   "version": "3.11.4"
  }
 },
 "nbformat": 4,
 "nbformat_minor": 5
}
